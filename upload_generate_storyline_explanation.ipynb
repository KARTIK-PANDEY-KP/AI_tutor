{
 "cells": [
  {
   "cell_type": "code",
   "execution_count": 6,
   "id": "d5ce2965",
   "metadata": {},
   "outputs": [
    {
     "data": {
      "text/plain": [
       "True"
      ]
     },
     "execution_count": 6,
     "metadata": {},
     "output_type": "execute_result"
    }
   ],
   "source": [
    "import os\n",
    "import json\n",
    "from dotenv import load_dotenv\n",
    "\n",
    "from helper import (\n",
    "    upload_to_the_vector_database,\n",
    "    generate_embedding,\n",
    "    retrieve_context,\n",
    "    generate_storyline,\n",
    "    generate_alternative_result,\n",
    "    generate_textual_explanation_scenes_voiceovers\n",
    ")\n",
    "# Load the .env file\n",
    "load_dotenv()"
   ]
  },
  {
   "cell_type": "code",
   "execution_count": 2,
   "id": "f87d8844",
   "metadata": {},
   "outputs": [
    {
     "name": "stdout",
     "output_type": "stream",
     "text": [
      "sycamore.executor - INFO - 2025-01-07 06:07:49,631 - Executing source BinaryScan\n"
     ]
    },
    {
     "name": "stderr",
     "output_type": "stream",
     "text": [
      "INFO:sycamore.executor:Executing source BinaryScan\n"
     ]
    },
    {
     "name": "stdout",
     "output_type": "stream",
     "text": [
      "sycamore.executor - INFO - 2025-01-07 06:07:49,734 - Executing node Partition\n"
     ]
    },
    {
     "name": "stderr",
     "output_type": "stream",
     "text": [
      "INFO:sycamore.executor:Executing node Partition\n"
     ]
    },
    {
     "name": "stdout",
     "output_type": "stream",
     "text": [
      "sycamore.transforms.detr_partitioner - INFO - 2025-01-07 06:07:51,511 - ArynPartitioner: T+   0.00: Server version aryn-partitioner-0.20241226.161207 Model version 1.4\n"
     ]
    },
    {
     "name": "stderr",
     "output_type": "stream",
     "text": [
      "INFO:sycamore.transforms.detr_partitioner:ArynPartitioner: T+   0.00: Server version aryn-partitioner-0.20241226.161207 Model version 1.4\n"
     ]
    },
    {
     "name": "stdout",
     "output_type": "stream",
     "text": [
      "sycamore.transforms.detr_partitioner - INFO - 2025-01-07 06:07:51,513 - ArynPartitioner: T+   0.00: Received request with aryn_call_id=54e58bc0-f570-4cc9-91d0-32d779f56239\n"
     ]
    },
    {
     "name": "stderr",
     "output_type": "stream",
     "text": [
      "INFO:sycamore.transforms.detr_partitioner:ArynPartitioner: T+   0.00: Received request with aryn_call_id=54e58bc0-f570-4cc9-91d0-32d779f56239\n"
     ]
    },
    {
     "name": "stdout",
     "output_type": "stream",
     "text": [
      "sycamore.transforms.detr_partitioner - INFO - 2025-01-07 06:07:51,515 - ArynPartitioner: T+   0.00: Waiting for scheduling\n"
     ]
    },
    {
     "name": "stderr",
     "output_type": "stream",
     "text": [
      "INFO:sycamore.transforms.detr_partitioner:ArynPartitioner: T+   0.00: Waiting for scheduling\n"
     ]
    },
    {
     "name": "stdout",
     "output_type": "stream",
     "text": [
      "sycamore.transforms.detr_partitioner - INFO - 2025-01-07 06:07:51,517 - ArynPartitioner: T+   0.01: Preprocessing document\n"
     ]
    },
    {
     "name": "stderr",
     "output_type": "stream",
     "text": [
      "INFO:sycamore.transforms.detr_partitioner:ArynPartitioner: T+   0.01: Preprocessing document\n"
     ]
    },
    {
     "name": "stdout",
     "output_type": "stream",
     "text": [
      "sycamore.transforms.detr_partitioner - INFO - 2025-01-07 06:07:51,518 - ArynPartitioner: T+   0.01: Done preprocessing document\n"
     ]
    },
    {
     "name": "stderr",
     "output_type": "stream",
     "text": [
      "INFO:sycamore.transforms.detr_partitioner:ArynPartitioner: T+   0.01: Done preprocessing document\n"
     ]
    },
    {
     "name": "stdout",
     "output_type": "stream",
     "text": [
      "sycamore.transforms.detr_partitioner - INFO - 2025-01-07 06:07:52,511 - ArynPartitioner: T+   1.97: Completed work on page 2\n"
     ]
    },
    {
     "name": "stderr",
     "output_type": "stream",
     "text": [
      "INFO:sycamore.transforms.detr_partitioner:ArynPartitioner: T+   1.97: Completed work on page 2\n"
     ]
    },
    {
     "name": "stdout",
     "output_type": "stream",
     "text": [
      "sycamore.transforms.detr_partitioner - INFO - 2025-01-07 06:07:53,512 - ArynPartitioner: T+   2.42: Completed work on page 6\n"
     ]
    },
    {
     "name": "stderr",
     "output_type": "stream",
     "text": [
      "INFO:sycamore.transforms.detr_partitioner:ArynPartitioner: T+   2.42: Completed work on page 6\n"
     ]
    },
    {
     "name": "stdout",
     "output_type": "stream",
     "text": [
      "sycamore.transforms.detr_partitioner - INFO - 2025-01-07 06:07:53,514 - ArynPartitioner: T+   2.97: Completed work on page 8\n"
     ]
    },
    {
     "name": "stderr",
     "output_type": "stream",
     "text": [
      "INFO:sycamore.transforms.detr_partitioner:ArynPartitioner: T+   2.97: Completed work on page 8\n"
     ]
    },
    {
     "name": "stdout",
     "output_type": "stream",
     "text": [
      "sycamore.transforms.detr_partitioner - INFO - 2025-01-07 06:07:54,513 - ArynPartitioner: T+   3.55: Completed work on page 7\n"
     ]
    },
    {
     "name": "stderr",
     "output_type": "stream",
     "text": [
      "INFO:sycamore.transforms.detr_partitioner:ArynPartitioner: T+   3.55: Completed work on page 7\n"
     ]
    },
    {
     "name": "stdout",
     "output_type": "stream",
     "text": [
      "sycamore.transforms.detr_partitioner - INFO - 2025-01-07 06:07:55,514 - ArynPartitioner: T+   4.09: Completed work on page 3\n"
     ]
    },
    {
     "name": "stderr",
     "output_type": "stream",
     "text": [
      "INFO:sycamore.transforms.detr_partitioner:ArynPartitioner: T+   4.09: Completed work on page 3\n"
     ]
    },
    {
     "name": "stdout",
     "output_type": "stream",
     "text": [
      "sycamore.transforms.detr_partitioner - INFO - 2025-01-07 06:07:55,515 - ArynPartitioner: T+   4.63: Completed work on page 13\n"
     ]
    },
    {
     "name": "stderr",
     "output_type": "stream",
     "text": [
      "INFO:sycamore.transforms.detr_partitioner:ArynPartitioner: T+   4.63: Completed work on page 13\n"
     ]
    },
    {
     "name": "stdout",
     "output_type": "stream",
     "text": [
      "sycamore.transforms.detr_partitioner - INFO - 2025-01-07 06:07:55,517 - ArynPartitioner: T+   4.98: Completed work on page 4\n"
     ]
    },
    {
     "name": "stderr",
     "output_type": "stream",
     "text": [
      "INFO:sycamore.transforms.detr_partitioner:ArynPartitioner: T+   4.98: Completed work on page 4\n"
     ]
    },
    {
     "name": "stdout",
     "output_type": "stream",
     "text": [
      "sycamore.transforms.detr_partitioner - INFO - 2025-01-07 06:07:56,514 - ArynPartitioner: T+   5.44: Completed work on page 9\n"
     ]
    },
    {
     "name": "stderr",
     "output_type": "stream",
     "text": [
      "INFO:sycamore.transforms.detr_partitioner:ArynPartitioner: T+   5.44: Completed work on page 9\n"
     ]
    },
    {
     "name": "stdout",
     "output_type": "stream",
     "text": [
      "sycamore.transforms.detr_partitioner - INFO - 2025-01-07 06:07:56,516 - ArynPartitioner: T+   5.72: Completed work on page 17\n"
     ]
    },
    {
     "name": "stderr",
     "output_type": "stream",
     "text": [
      "INFO:sycamore.transforms.detr_partitioner:ArynPartitioner: T+   5.72: Completed work on page 17\n"
     ]
    },
    {
     "name": "stdout",
     "output_type": "stream",
     "text": [
      "sycamore.transforms.detr_partitioner - INFO - 2025-01-07 06:07:57,514 - ArynPartitioner: T+   6.12: Completed work on page 1\n"
     ]
    },
    {
     "name": "stderr",
     "output_type": "stream",
     "text": [
      "INFO:sycamore.transforms.detr_partitioner:ArynPartitioner: T+   6.12: Completed work on page 1\n"
     ]
    },
    {
     "name": "stdout",
     "output_type": "stream",
     "text": [
      "sycamore.transforms.detr_partitioner - INFO - 2025-01-07 06:07:57,516 - ArynPartitioner: T+   6.60: Completed work on page 11\n"
     ]
    },
    {
     "name": "stderr",
     "output_type": "stream",
     "text": [
      "INFO:sycamore.transforms.detr_partitioner:ArynPartitioner: T+   6.60: Completed work on page 11\n"
     ]
    },
    {
     "name": "stdout",
     "output_type": "stream",
     "text": [
      "sycamore.transforms.detr_partitioner - INFO - 2025-01-07 06:07:58,514 - ArynPartitioner: T+   7.04: Completed work on page 12\n"
     ]
    },
    {
     "name": "stderr",
     "output_type": "stream",
     "text": [
      "INFO:sycamore.transforms.detr_partitioner:ArynPartitioner: T+   7.04: Completed work on page 12\n"
     ]
    },
    {
     "name": "stdout",
     "output_type": "stream",
     "text": [
      "sycamore.transforms.detr_partitioner - INFO - 2025-01-07 06:07:58,515 - ArynPartitioner: T+   7.35: Completed work on page 14\n"
     ]
    },
    {
     "name": "stderr",
     "output_type": "stream",
     "text": [
      "INFO:sycamore.transforms.detr_partitioner:ArynPartitioner: T+   7.35: Completed work on page 14\n"
     ]
    },
    {
     "name": "stdout",
     "output_type": "stream",
     "text": [
      "sycamore.transforms.detr_partitioner - INFO - 2025-01-07 06:07:58,517 - ArynPartitioner: T+   7.70: Completed work on page 18\n"
     ]
    },
    {
     "name": "stderr",
     "output_type": "stream",
     "text": [
      "INFO:sycamore.transforms.detr_partitioner:ArynPartitioner: T+   7.70: Completed work on page 18\n"
     ]
    },
    {
     "name": "stdout",
     "output_type": "stream",
     "text": [
      "sycamore.transforms.detr_partitioner - INFO - 2025-01-07 06:07:59,514 - ArynPartitioner: T+   8.16: Completed work on page 16\n"
     ]
    },
    {
     "name": "stderr",
     "output_type": "stream",
     "text": [
      "INFO:sycamore.transforms.detr_partitioner:ArynPartitioner: T+   8.16: Completed work on page 16\n"
     ]
    },
    {
     "name": "stdout",
     "output_type": "stream",
     "text": [
      "sycamore.transforms.detr_partitioner - INFO - 2025-01-07 06:07:59,516 - ArynPartitioner: T+   8.56: Completed work on page 10\n"
     ]
    },
    {
     "name": "stderr",
     "output_type": "stream",
     "text": [
      "INFO:sycamore.transforms.detr_partitioner:ArynPartitioner: T+   8.56: Completed work on page 10\n"
     ]
    },
    {
     "name": "stdout",
     "output_type": "stream",
     "text": [
      "sycamore.transforms.detr_partitioner - INFO - 2025-01-07 06:07:59,518 - ArynPartitioner: T+   8.94: Completed work on page 15\n"
     ]
    },
    {
     "name": "stderr",
     "output_type": "stream",
     "text": [
      "INFO:sycamore.transforms.detr_partitioner:ArynPartitioner: T+   8.94: Completed work on page 15\n"
     ]
    },
    {
     "name": "stdout",
     "output_type": "stream",
     "text": [
      "sycamore.transforms.detr_partitioner - INFO - 2025-01-07 06:08:00,583 - ArynPartitioner: T+   9.41: Completed work on page 5\n"
     ]
    },
    {
     "name": "stderr",
     "output_type": "stream",
     "text": [
      "INFO:sycamore.transforms.detr_partitioner:ArynPartitioner: T+   9.41: Completed work on page 5\n"
     ]
    },
    {
     "name": "stdout",
     "output_type": "stream",
     "text": [
      "sycamore.transforms.detr_partitioner - INFO - 2025-01-07 06:08:00,585 - ArynPartitioner: T+   9.47: Completed work on page 19\n"
     ]
    },
    {
     "name": "stderr",
     "output_type": "stream",
     "text": [
      "INFO:sycamore.transforms.detr_partitioner:ArynPartitioner: T+   9.47: Completed work on page 19\n"
     ]
    },
    {
     "name": "stdout",
     "output_type": "stream",
     "text": [
      "sycamore.executor - INFO - 2025-01-07 06:08:01,027 - Executing node Materialize\n"
     ]
    },
    {
     "name": "stderr",
     "output_type": "stream",
     "text": [
      "INFO:sycamore.executor:Executing node Materialize\n"
     ]
    },
    {
     "name": "stdout",
     "output_type": "stream",
     "text": [
      "sycamore.executor - INFO - 2025-01-07 06:08:01,076 - Executing node merge_elements\n"
     ]
    },
    {
     "name": "stderr",
     "output_type": "stream",
     "text": [
      "INFO:sycamore.executor:Executing node merge_elements\n"
     ]
    },
    {
     "name": "stdout",
     "output_type": "stream",
     "text": [
      "sycamore.executor - INFO - 2025-01-07 06:08:02,346 - Executing node split_doc\n"
     ]
    },
    {
     "name": "stderr",
     "output_type": "stream",
     "text": [
      "INFO:sycamore.executor:Executing node split_doc\n"
     ]
    },
    {
     "name": "stdout",
     "output_type": "stream",
     "text": [
      "sycamore.executor - INFO - 2025-01-07 06:08:05,885 - Executing source BinaryScan\n"
     ]
    },
    {
     "name": "stderr",
     "output_type": "stream",
     "text": [
      "INFO:sycamore.executor:Executing source BinaryScan\n"
     ]
    },
    {
     "name": "stdout",
     "output_type": "stream",
     "text": [
      "sycamore.executor - INFO - 2025-01-07 06:08:05,889 - Executing node Partition\n"
     ]
    },
    {
     "name": "stderr",
     "output_type": "stream",
     "text": [
      "INFO:sycamore.executor:Executing node Partition\n"
     ]
    },
    {
     "name": "stdout",
     "output_type": "stream",
     "text": [
      "sycamore.transforms.detr_partitioner - INFO - 2025-01-07 06:08:07,487 - ArynPartitioner: T+   0.00: Server version aryn-partitioner-0.20241226.161207 Model version 1.4\n"
     ]
    },
    {
     "name": "stderr",
     "output_type": "stream",
     "text": [
      "INFO:sycamore.transforms.detr_partitioner:ArynPartitioner: T+   0.00: Server version aryn-partitioner-0.20241226.161207 Model version 1.4\n"
     ]
    },
    {
     "name": "stdout",
     "output_type": "stream",
     "text": [
      "sycamore.transforms.detr_partitioner - INFO - 2025-01-07 06:08:07,489 - ArynPartitioner: T+   0.00: Received request with aryn_call_id=c4a7a54b-cbc2-4452-916d-ff2f20e61555\n"
     ]
    },
    {
     "name": "stderr",
     "output_type": "stream",
     "text": [
      "INFO:sycamore.transforms.detr_partitioner:ArynPartitioner: T+   0.00: Received request with aryn_call_id=c4a7a54b-cbc2-4452-916d-ff2f20e61555\n"
     ]
    },
    {
     "name": "stdout",
     "output_type": "stream",
     "text": [
      "sycamore.transforms.detr_partitioner - INFO - 2025-01-07 06:08:07,490 - ArynPartitioner: T+   0.00: Waiting for scheduling\n"
     ]
    },
    {
     "name": "stderr",
     "output_type": "stream",
     "text": [
      "INFO:sycamore.transforms.detr_partitioner:ArynPartitioner: T+   0.00: Waiting for scheduling\n"
     ]
    },
    {
     "name": "stdout",
     "output_type": "stream",
     "text": [
      "sycamore.transforms.detr_partitioner - INFO - 2025-01-07 06:08:07,492 - ArynPartitioner: T+   0.01: Preprocessing document\n"
     ]
    },
    {
     "name": "stderr",
     "output_type": "stream",
     "text": [
      "INFO:sycamore.transforms.detr_partitioner:ArynPartitioner: T+   0.01: Preprocessing document\n"
     ]
    },
    {
     "name": "stdout",
     "output_type": "stream",
     "text": [
      "sycamore.transforms.detr_partitioner - INFO - 2025-01-07 06:08:07,494 - ArynPartitioner: T+   0.01: Done preprocessing document\n"
     ]
    },
    {
     "name": "stderr",
     "output_type": "stream",
     "text": [
      "INFO:sycamore.transforms.detr_partitioner:ArynPartitioner: T+   0.01: Done preprocessing document\n"
     ]
    },
    {
     "name": "stdout",
     "output_type": "stream",
     "text": [
      "sycamore.transforms.detr_partitioner - INFO - 2025-01-07 06:08:08,487 - ArynPartitioner: T+   1.64: Completed work on page 1\n"
     ]
    },
    {
     "name": "stderr",
     "output_type": "stream",
     "text": [
      "INFO:sycamore.transforms.detr_partitioner:ArynPartitioner: T+   1.64: Completed work on page 1\n"
     ]
    },
    {
     "name": "stdout",
     "output_type": "stream",
     "text": [
      "sycamore.transforms.detr_partitioner - INFO - 2025-01-07 06:08:09,626 - ArynPartitioner: T+   2.26: Completed work on page 4\n"
     ]
    },
    {
     "name": "stderr",
     "output_type": "stream",
     "text": [
      "INFO:sycamore.transforms.detr_partitioner:ArynPartitioner: T+   2.26: Completed work on page 4\n"
     ]
    },
    {
     "name": "stdout",
     "output_type": "stream",
     "text": [
      "sycamore.transforms.detr_partitioner - INFO - 2025-01-07 06:08:09,628 - ArynPartitioner: T+   2.85: Completed work on page 5\n"
     ]
    },
    {
     "name": "stderr",
     "output_type": "stream",
     "text": [
      "INFO:sycamore.transforms.detr_partitioner:ArynPartitioner: T+   2.85: Completed work on page 5\n"
     ]
    },
    {
     "name": "stdout",
     "output_type": "stream",
     "text": [
      "sycamore.transforms.detr_partitioner - INFO - 2025-01-07 06:08:10,627 - ArynPartitioner: T+   3.59: Completed work on page 7\n"
     ]
    },
    {
     "name": "stderr",
     "output_type": "stream",
     "text": [
      "INFO:sycamore.transforms.detr_partitioner:ArynPartitioner: T+   3.59: Completed work on page 7\n"
     ]
    },
    {
     "name": "stdout",
     "output_type": "stream",
     "text": [
      "sycamore.transforms.detr_partitioner - INFO - 2025-01-07 06:08:10,628 - ArynPartitioner: T+   4.03: Completed work on page 9\n"
     ]
    },
    {
     "name": "stderr",
     "output_type": "stream",
     "text": [
      "INFO:sycamore.transforms.detr_partitioner:ArynPartitioner: T+   4.03: Completed work on page 9\n"
     ]
    },
    {
     "name": "stdout",
     "output_type": "stream",
     "text": [
      "sycamore.transforms.detr_partitioner - INFO - 2025-01-07 06:08:11,627 - ArynPartitioner: T+   4.56: Completed work on page 3\n"
     ]
    },
    {
     "name": "stderr",
     "output_type": "stream",
     "text": [
      "INFO:sycamore.transforms.detr_partitioner:ArynPartitioner: T+   4.56: Completed work on page 3\n"
     ]
    },
    {
     "name": "stdout",
     "output_type": "stream",
     "text": [
      "sycamore.transforms.detr_partitioner - INFO - 2025-01-07 06:08:12,627 - ArynPartitioner: T+   5.15: Completed work on page 10\n"
     ]
    },
    {
     "name": "stderr",
     "output_type": "stream",
     "text": [
      "INFO:sycamore.transforms.detr_partitioner:ArynPartitioner: T+   5.15: Completed work on page 10\n"
     ]
    },
    {
     "name": "stdout",
     "output_type": "stream",
     "text": [
      "sycamore.transforms.detr_partitioner - INFO - 2025-01-07 06:08:12,629 - ArynPartitioner: T+   5.58: Completed work on page 13\n"
     ]
    },
    {
     "name": "stderr",
     "output_type": "stream",
     "text": [
      "INFO:sycamore.transforms.detr_partitioner:ArynPartitioner: T+   5.58: Completed work on page 13\n"
     ]
    },
    {
     "name": "stdout",
     "output_type": "stream",
     "text": [
      "sycamore.transforms.detr_partitioner - INFO - 2025-01-07 06:08:12,631 - ArynPartitioner: T+   5.87: Completed work on page 2\n"
     ]
    },
    {
     "name": "stderr",
     "output_type": "stream",
     "text": [
      "INFO:sycamore.transforms.detr_partitioner:ArynPartitioner: T+   5.87: Completed work on page 2\n"
     ]
    },
    {
     "name": "stdout",
     "output_type": "stream",
     "text": [
      "sycamore.transforms.detr_partitioner - INFO - 2025-01-07 06:08:13,627 - ArynPartitioner: T+   6.29: Completed work on page 14\n"
     ]
    },
    {
     "name": "stderr",
     "output_type": "stream",
     "text": [
      "INFO:sycamore.transforms.detr_partitioner:ArynPartitioner: T+   6.29: Completed work on page 14\n"
     ]
    },
    {
     "name": "stdout",
     "output_type": "stream",
     "text": [
      "sycamore.transforms.detr_partitioner - INFO - 2025-01-07 06:08:13,629 - ArynPartitioner: T+   6.57: Completed work on page 19\n"
     ]
    },
    {
     "name": "stderr",
     "output_type": "stream",
     "text": [
      "INFO:sycamore.transforms.detr_partitioner:ArynPartitioner: T+   6.57: Completed work on page 19\n"
     ]
    },
    {
     "name": "stdout",
     "output_type": "stream",
     "text": [
      "sycamore.transforms.detr_partitioner - INFO - 2025-01-07 06:08:14,628 - ArynPartitioner: T+   7.20: Completed work on page 12\n"
     ]
    },
    {
     "name": "stderr",
     "output_type": "stream",
     "text": [
      "INFO:sycamore.transforms.detr_partitioner:ArynPartitioner: T+   7.20: Completed work on page 12\n"
     ]
    },
    {
     "name": "stdout",
     "output_type": "stream",
     "text": [
      "sycamore.transforms.detr_partitioner - INFO - 2025-01-07 06:08:14,629 - ArynPartitioner: T+   7.49: Completed work on page 11\n"
     ]
    },
    {
     "name": "stderr",
     "output_type": "stream",
     "text": [
      "INFO:sycamore.transforms.detr_partitioner:ArynPartitioner: T+   7.49: Completed work on page 11\n"
     ]
    },
    {
     "name": "stdout",
     "output_type": "stream",
     "text": [
      "sycamore.transforms.detr_partitioner - INFO - 2025-01-07 06:08:14,631 - ArynPartitioner: T+   7.84: Completed work on page 18\n"
     ]
    },
    {
     "name": "stderr",
     "output_type": "stream",
     "text": [
      "INFO:sycamore.transforms.detr_partitioner:ArynPartitioner: T+   7.84: Completed work on page 18\n"
     ]
    },
    {
     "name": "stdout",
     "output_type": "stream",
     "text": [
      "sycamore.transforms.detr_partitioner - INFO - 2025-01-07 06:08:15,628 - ArynPartitioner: T+   8.25: Completed work on page 6\n"
     ]
    },
    {
     "name": "stderr",
     "output_type": "stream",
     "text": [
      "INFO:sycamore.transforms.detr_partitioner:ArynPartitioner: T+   8.25: Completed work on page 6\n"
     ]
    },
    {
     "name": "stdout",
     "output_type": "stream",
     "text": [
      "sycamore.transforms.detr_partitioner - INFO - 2025-01-07 06:08:15,630 - ArynPartitioner: T+   8.59: Completed work on page 8\n"
     ]
    },
    {
     "name": "stderr",
     "output_type": "stream",
     "text": [
      "INFO:sycamore.transforms.detr_partitioner:ArynPartitioner: T+   8.59: Completed work on page 8\n"
     ]
    },
    {
     "name": "stdout",
     "output_type": "stream",
     "text": [
      "sycamore.transforms.detr_partitioner - INFO - 2025-01-07 06:08:15,632 - ArynPartitioner: T+   9.01: Completed work on page 15\n"
     ]
    },
    {
     "name": "stderr",
     "output_type": "stream",
     "text": [
      "INFO:sycamore.transforms.detr_partitioner:ArynPartitioner: T+   9.01: Completed work on page 15\n"
     ]
    },
    {
     "name": "stdout",
     "output_type": "stream",
     "text": [
      "sycamore.transforms.detr_partitioner - INFO - 2025-01-07 06:08:16,697 - ArynPartitioner: T+   9.38: Completed work on page 16\n"
     ]
    },
    {
     "name": "stderr",
     "output_type": "stream",
     "text": [
      "INFO:sycamore.transforms.detr_partitioner:ArynPartitioner: T+   9.38: Completed work on page 16\n"
     ]
    },
    {
     "name": "stdout",
     "output_type": "stream",
     "text": [
      "sycamore.transforms.detr_partitioner - INFO - 2025-01-07 06:08:16,699 - ArynPartitioner: T+   9.61: Completed work on page 17\n"
     ]
    },
    {
     "name": "stderr",
     "output_type": "stream",
     "text": [
      "INFO:sycamore.transforms.detr_partitioner:ArynPartitioner: T+   9.61: Completed work on page 17\n"
     ]
    },
    {
     "name": "stdout",
     "output_type": "stream",
     "text": [
      "sycamore.executor - INFO - 2025-01-07 06:08:17,145 - Executing node Materialize\n"
     ]
    },
    {
     "name": "stderr",
     "output_type": "stream",
     "text": [
      "INFO:sycamore.executor:Executing node Materialize\n"
     ]
    },
    {
     "name": "stdout",
     "output_type": "stream",
     "text": [
      "sycamore.executor - INFO - 2025-01-07 06:08:17,194 - Executing node merge_elements\n"
     ]
    },
    {
     "name": "stderr",
     "output_type": "stream",
     "text": [
      "INFO:sycamore.executor:Executing node merge_elements\n"
     ]
    },
    {
     "name": "stdout",
     "output_type": "stream",
     "text": [
      "sycamore.executor - INFO - 2025-01-07 06:08:18,546 - Executing node split_doc\n"
     ]
    },
    {
     "name": "stderr",
     "output_type": "stream",
     "text": [
      "INFO:sycamore.executor:Executing node split_doc\n"
     ]
    },
    {
     "name": "stdout",
     "output_type": "stream",
     "text": [
      "sycamore.executor - INFO - 2025-01-07 06:08:19,811 - Executing node spread_properties\n"
     ]
    },
    {
     "name": "stderr",
     "output_type": "stream",
     "text": [
      "INFO:sycamore.executor:Executing node spread_properties\n"
     ]
    },
    {
     "name": "stdout",
     "output_type": "stream",
     "text": [
      "sycamore.executor - INFO - 2025-01-07 06:08:19,829 - Executing node explode\n"
     ]
    },
    {
     "name": "stderr",
     "output_type": "stream",
     "text": [
      "INFO:sycamore.executor:Executing node explode\n"
     ]
    },
    {
     "name": "stdout",
     "output_type": "stream",
     "text": [
      "sycamore.executor - INFO - 2025-01-07 06:08:19,854 - Executing node OpenAIEmbedder\n"
     ]
    },
    {
     "name": "stderr",
     "output_type": "stream",
     "text": [
      "INFO:sycamore.executor:Executing node OpenAIEmbedder\n"
     ]
    },
    {
     "name": "stdout",
     "output_type": "stream",
     "text": [
      "sycamore.executor - INFO - 2025-01-07 06:08:22,399 - Executing node pinecone_write\n"
     ]
    },
    {
     "name": "stderr",
     "output_type": "stream",
     "text": [
      "INFO:sycamore.executor:Executing node pinecone_write\n"
     ]
    }
   ],
   "source": [
    "# Sycamore uses lazy execution for efficiency, so the ETL pipeline will only execute when running cells with specific functions.\n",
    "  \n",
    "paths = [\"Sample_pdfs/2406.16672v2.pdf\"]\n",
    "\n",
    "# Set the embedding model and its parameters\n",
    "model_name = \"text-embedding-3-small\"\n",
    "max_tokens = 8191\n",
    "dimensions = 1536\n",
    "\n",
    "# I tjknk it uploads to the vectorDB, NOT SURE IF IT APPEND THE DATA OR OVERWRITES THE EXISTING DATA\n",
    "upload_to_the_vector_database(paths, model_name, max_tokens, dimensions)"
   ]
  },
  {
   "cell_type": "code",
   "execution_count": 2,
   "id": "1068aebb",
   "metadata": {
    "scrolled": false
   },
   "outputs": [
    {
     "name": "stdout",
     "output_type": "stream",
     "text": [
      "STORYLINE AS FOLLOWS:\n",
      " [\n",
      "    {\n",
      "      \"scene_number\": 1,\n",
      "      \"image\": \"We see a classroom filled with curious students, sitting at their desks and listening intently to their wise teacher.\",\n",
      "      \"action\": \"The teacher introduces the concept of model distillation, explaining that it is a way to help students understand complex ideas by breaking them down into simpler, more digestible forms.\",\n",
      "      \"voiceover\": \"Welcome to our class on model distillation! Imagine trying to teach your friends about something really complicated, like how a rocket ship works. It can be challenging to explain all the different parts and processes in a way that they can understand. That's where model distillation comes in.\"\n",
      "    },\n",
      "    {\n",
      "      \"scene_number\": 2,\n",
      "      \"image\": \"The students are now transported to a whimsical space filled with colorful, glowing nodes and gears. The wise teacher is now an animated character, guiding the students through the space.\",\n",
      "      \"action\": \"The teacher explains that in model distillation, we use visual metaphors like nodes for connections and gears for processes to simplify complex ideas.\",\n",
      "      \"voiceover\": \"In model distillation, we use fun and engaging visuals to help us explain complex ideas. See these glowing nodes? They represent the connections between different parts of a system. And these gears? They represent the processes that make the system work.\"\n",
      "    },\n",
      "    {\n",
      "      \"scene_number\": 3,\n",
      "      \"image\": \"The teacher and students are now in a futuristic lab, surrounded by advanced technology and equipment. They are wearing lab coats and using high-tech devices to analyze data.\",\n",
      "      \"action\": \"The teacher explains that model distillation also involves analyzing data and identifying important patterns and relationships.\",\n",
      "      \"voiceover\": \"Model distillation also involves analyzing data. Just like how we use high-tech equipment in this lab to study different materials, we use data to understand how different parts of a system interact and influence each other.\"\n",
      "    },\n",
      "    {\n",
      "      \"scene_number\": 4,\n",
      "      \"image\": \"The students are now back in the classroom, but this time they are working together on a project. They are using the visual metaphors they learned to create their own simplified model of a complex system.\",\n",
      "      \"action\": \"The teacher explains that in model distillation, students can work together to create their own simplified models, which can help them better understand the complex system.\",\n",
      "      \"voiceover\": \"Now it's your turn to try model distillation! Working together, you can use the visual metaphors we learned to create your own simplified model of a complex system. This will help you understand the system better and explain it to others in a fun and engaging way.\"\n",
      "    },\n",
      "    {\n",
      "      \"scene_number\": 5,\n",
      "      \"image\": \"The students proudly present their models to the class, with big smiles on their faces.\",\n",
      "      \"action\": \"The teacher concludes by summarizing the key points of model distillation and encouraging the students to use it in their future learning.\",\n",
      "      \"voiceover\": \"Wow, you all did a fantastic job with your models! See how model distillation can help us understand complex ideas and make them easier to explain? Remember, you can use this technique in your future learning to break down and understand any complex concept. Keep up the great work!\" \n",
      "    }\n",
      "    ]\n",
      "\n",
      "TEXTUAL EXPLANATION AS FOLLOWS:\n",
      " \n",
      "Model distillation is a way to teach a new model by using an already trained model. It helps the new model learn the same patterns and information as the trained model, making it more accurate and efficient. This technique is often used in machine learning to improve performance and save time. \n"
     ]
    }
   ],
   "source": [
    "# Example Usage\n",
    "user_query = \"explain model distillation mentioned in the paper\"\n",
    "\n",
    "storyline, textual_explanation = generate_textual_explanation_scenes_voiceovers(user_query)"
   ]
  },
  {
   "cell_type": "code",
   "execution_count": 3,
   "id": "840b5edf",
   "metadata": {},
   "outputs": [
    {
     "data": {
      "text/plain": [
       "str"
      ]
     },
     "execution_count": 3,
     "metadata": {},
     "output_type": "execute_result"
    }
   ],
   "source": [
    "type(storyline)"
   ]
  },
  {
   "cell_type": "code",
   "execution_count": 4,
   "id": "ad041701",
   "metadata": {},
   "outputs": [
    {
     "name": "stdout",
     "output_type": "stream",
     "text": [
      "[{'scene_number': 1, 'image': 'We see a classroom filled with curious students, sitting at their desks and listening intently to their wise teacher.', 'action': 'The teacher introduces the concept of model distillation, explaining that it is a way to help students understand complex ideas by breaking them down into simpler, more digestible forms.', 'voiceover': \"Welcome to our class on model distillation! Imagine trying to teach your friends about something really complicated, like how a rocket ship works. It can be challenging to explain all the different parts and processes in a way that they can understand. That's where model distillation comes in.\"}, {'scene_number': 2, 'image': 'The students are now transported to a whimsical space filled with colorful, glowing nodes and gears. The wise teacher is now an animated character, guiding the students through the space.', 'action': 'The teacher explains that in model distillation, we use visual metaphors like nodes for connections and gears for processes to simplify complex ideas.', 'voiceover': 'In model distillation, we use fun and engaging visuals to help us explain complex ideas. See these glowing nodes? They represent the connections between different parts of a system. And these gears? They represent the processes that make the system work.'}, {'scene_number': 3, 'image': 'The teacher and students are now in a futuristic lab, surrounded by advanced technology and equipment. They are wearing lab coats and using high-tech devices to analyze data.', 'action': 'The teacher explains that model distillation also involves analyzing data and identifying important patterns and relationships.', 'voiceover': 'Model distillation also involves analyzing data. Just like how we use high-tech equipment in this lab to study different materials, we use data to understand how different parts of a system interact and influence each other.'}, {'scene_number': 4, 'image': 'The students are now back in the classroom, but this time they are working together on a project. They are using the visual metaphors they learned to create their own simplified model of a complex system.', 'action': 'The teacher explains that in model distillation, students can work together to create their own simplified models, which can help them better understand the complex system.', 'voiceover': \"Now it's your turn to try model distillation! Working together, you can use the visual metaphors we learned to create your own simplified model of a complex system. This will help you understand the system better and explain it to others in a fun and engaging way.\"}, {'scene_number': 5, 'image': 'The students proudly present their models to the class, with big smiles on their faces.', 'action': 'The teacher concludes by summarizing the key points of model distillation and encouraging the students to use it in their future learning.', 'voiceover': 'Wow, you all did a fantastic job with your models! See how model distillation can help us understand complex ideas and make them easier to explain? Remember, you can use this technique in your future learning to break down and understand any complex concept. Keep up the great work!'}]\n"
     ]
    }
   ],
   "source": [
    "json_output = json.loads(storyline)\n",
    "print(json_output)"
   ]
  },
  {
   "cell_type": "code",
   "execution_count": 5,
   "id": "3c68a947",
   "metadata": {},
   "outputs": [
    {
     "data": {
      "text/plain": [
       "5"
      ]
     },
     "execution_count": 5,
     "metadata": {},
     "output_type": "execute_result"
    }
   ],
   "source": [
    "len(json_output)"
   ]
  },
  {
   "cell_type": "code",
   "execution_count": null,
   "id": "ad4ff962",
   "metadata": {},
   "outputs": [],
   "source": []
  }
 ],
 "metadata": {
  "kernelspec": {
   "display_name": "Python (sb)",
   "language": "python",
   "name": "sb"
  },
  "language_info": {
   "codemirror_mode": {
    "name": "ipython",
    "version": 3
   },
   "file_extension": ".py",
   "mimetype": "text/x-python",
   "name": "python",
   "nbconvert_exporter": "python",
   "pygments_lexer": "ipython3",
   "version": "3.12.2"
  }
 },
 "nbformat": 4,
 "nbformat_minor": 5
}
